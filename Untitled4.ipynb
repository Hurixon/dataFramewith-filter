{
  "nbformat": 4,
  "nbformat_minor": 0,
  "metadata": {
    "colab": {
      "provenance": []
    },
    "kernelspec": {
      "name": "python3",
      "display_name": "Python 3"
    },
    "language_info": {
      "name": "python"
    }
  },
  "cells": [
    {
      "cell_type": "code",
      "execution_count": 3,
      "metadata": {
        "colab": {
          "base_uri": "https://localhost:8080/"
        },
        "id": "BAzVTtvxPiyW",
        "outputId": "31e1143a-46aa-41a8-f599-2b67343cf508"
      },
      "outputs": [
        {
          "output_type": "stream",
          "name": "stdout",
          "text": [
            "                      FISH Yoshi    Maktabi  Jinsi           Manzili\n",
            "0       Joraboyeva Hurixon    19  28-maktab   Ayol    Toshloq tumani\n",
            "1    Joraboyeva Bibifotima    19  28-maktab   Ayol    Toshloq tumani\n",
            "2  Yusupaliyeva Mohichehra     9  28-maktab   Ayol  Uchkoprik tumani\n",
            "3       Amakihonova Madina    19  31-maktab   Ayol       Quva tumani\n",
            "4        Tolanova Gulbahor    19   8-maktab   Ayol    Fargona shahar\n",
            "5      Orinboyeva Muxtasar     8  28-maktab   Ayol    Fargona tumani\n",
            "6        oktamova Muyassar    15   8-maktab   Ayol    Buvayda tumani\n",
            "7       Joraboyev Asqarali    17  28-maktab  Erkak    Toshloq tumani\n"
          ]
        }
      ],
      "source": [
        "import pandas as pd\n",
        "baza={\n",
        "    \"FISH\":[\"Joraboyeva Hurixon\",\"Joraboyeva Bibifotima\",\"Yusupaliyeva Mohichehra\",\"Amakihonova Madina\",\"Tolanova Gulbahor\",\"Orinboyeva Muxtasar\",\"oktamova Muyassar\",\"Joraboyev Asqarali\"],\n",
        "    \"Yoshi\":[\"19\",\"19\",\"9\",\"19\",\"19\",\"8\",\"15\",\"17\"],\n",
        "    \"Maktabi\":[\"28-maktab\",\"28-maktab\",\"28-maktab\",\"31-maktab\",\"8-maktab\",\"28-maktab\",\"8-maktab\",\"28-maktab\"],\n",
        "    \"Jinsi\":[\"Ayol\",\"Ayol\",\"Ayol\",\"Ayol\",\"Ayol\",\"Ayol\",\"Ayol\",\"Erkak\"],\n",
        "    \"Manzili\":[\"Toshloq tumani\",\"Toshloq tumani\",\"Uchkoprik tumani\",\"Quva tumani\",\"Fargona shahar\",\"Fargona tumani\",\"Buvayda tumani\",\"Toshloq tumani\"]\n",
        "}\n",
        "df=pd.DataFrame(baza)\n",
        "print(df)"
      ]
    },
    {
      "cell_type": "code",
      "source": [
        "filtr=df[df['Jinsi']==\"Ayol\"]\n",
        "print(filtr)"
      ],
      "metadata": {
        "colab": {
          "base_uri": "https://localhost:8080/"
        },
        "id": "4m-isZKzUD0m",
        "outputId": "69e085de-5fa4-4e33-963f-cb2429fc40cd"
      },
      "execution_count": 4,
      "outputs": [
        {
          "output_type": "stream",
          "name": "stdout",
          "text": [
            "                      FISH Yoshi    Maktabi Jinsi           Manzili\n",
            "0       Joraboyeva Hurixon    19  28-maktab  Ayol    Toshloq tumani\n",
            "1    Joraboyeva Bibifotima    19  28-maktab  Ayol    Toshloq tumani\n",
            "2  Yusupaliyeva Mohichehra     9  28-maktab  Ayol  Uchkoprik tumani\n",
            "3       Amakihonova Madina    19  31-maktab  Ayol       Quva tumani\n",
            "4        Tolanova Gulbahor    19   8-maktab  Ayol    Fargona shahar\n",
            "5      Orinboyeva Muxtasar     8  28-maktab  Ayol    Fargona tumani\n",
            "6        oktamova Muyassar    15   8-maktab  Ayol    Buvayda tumani\n"
          ]
        }
      ]
    },
    {
      "cell_type": "code",
      "source": [
        "filtr=df[df['Jinsi']==\"Erkak\"]\n",
        "print(filtr)"
      ],
      "metadata": {
        "colab": {
          "base_uri": "https://localhost:8080/"
        },
        "id": "eZttG20PU6Lp",
        "outputId": "f9546a8b-0312-4820-e7c8-6c2e1f8a7eb8"
      },
      "execution_count": 5,
      "outputs": [
        {
          "output_type": "stream",
          "name": "stdout",
          "text": [
            "                 FISH Yoshi    Maktabi  Jinsi         Manzili\n",
            "7  Joraboyev Asqarali    17  28-maktab  Erkak  Toshloq tumani\n"
          ]
        }
      ]
    }
  ]
}